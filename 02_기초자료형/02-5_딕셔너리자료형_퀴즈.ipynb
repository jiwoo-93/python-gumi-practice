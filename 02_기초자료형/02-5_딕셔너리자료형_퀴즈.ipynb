{
 "cells": [
  {
   "cell_type": "markdown",
   "metadata": {},
   "source": [
    "1. scores = {'Alice': 85, 'Bob': 92, 'Charlie': 78} Charlie의 점수를 출력하세요 "
   ]
  },
  {
   "cell_type": "code",
   "execution_count": null,
   "metadata": {
    "vscode": {
     "languageId": "plaintext"
    }
   },
   "outputs": [],
   "source": []
  },
  {
   "cell_type": "markdown",
   "metadata": {},
   "source": [
    "2. person = {'name': 'Alice', 'age': 25} 주어졌을 때 이름과 나이를 출력하는 프로그램을 만드세요. "
   ]
  },
  {
   "cell_type": "markdown",
   "metadata": {},
   "source": [
    "3. grades = {'math': 90, 'science': 85, 'english': 88} 주어진 딕셔너리의 과목의 합과 평균을 구해주세요"
   ]
  },
  {
   "cell_type": "markdown",
   "metadata": {},
   "source": [
    "4. employee = {'name': 'ken', 'position': 'Manager', 'salary': 5000} 에서 salary 요소를 삭제해 주세요 "
   ]
  },
  {
   "cell_type": "markdown",
   "metadata": {},
   "source": [
    "5. foods = {\"딸기\": 1000, \"사과\": 2000, \"수박\": 3000} 에서 \"김치\": 5000 을 추가해 주세요 |"
   ]
  },
  {
   "cell_type": "markdown",
   "metadata": {},
   "source": [
    "6. foods = {\"딸기\": 1000, \"사과\": 2000, \"수박\": 3000} 에서 수박이 있으면 True 를 출력하는 프로그램을 만드세요"
   ]
  },
  {
   "cell_type": "markdown",
   "metadata": {},
   "source": []
  }
 ],
 "metadata": {
  "language_info": {
   "name": "python"
  }
 },
 "nbformat": 4,
 "nbformat_minor": 2
}
