{
 "cells": [
  {
   "cell_type": "code",
   "execution_count": 4,
   "metadata": {},
   "outputs": [
    {
     "name": "stdout",
     "output_type": "stream",
     "text": [
      "123\n",
      "-178\n",
      "0\n"
     ]
    }
   ],
   "source": [
    "a = 123\n",
    "b = -178\n",
    "c = 0\n",
    "\n",
    "print(a)\n",
    "print(b)\n",
    "print(c)"
   ]
  },
  {
   "cell_type": "code",
   "execution_count": 1,
   "metadata": {},
   "outputs": [
    {
     "name": "stdout",
     "output_type": "stream",
     "text": [
      "1.2\n",
      "-3.45\n"
     ]
    }
   ],
   "source": [
    "# 실수형\n",
    "a = 1.2\n",
    "b = -3.45\n",
    "\n",
    "print(a)\n",
    "print(b)"
   ]
  },
  {
   "cell_type": "code",
   "execution_count": null,
   "metadata": {},
   "outputs": [],
   "source": [
    "print(\"hello world!\")"
   ]
  },
  {
   "cell_type": "code",
   "execution_count": 3,
   "metadata": {},
   "outputs": [
    {
     "name": "stdout",
     "output_type": "stream",
     "text": [
      "4.24e-10\n",
      "-3.45\n"
     ]
    }
   ],
   "source": [
    "a = 4.24E10\n",
    "a = 4.24e-10\n",
    "\n",
    "print(a)\n",
    "print(b)"
   ]
  },
  {
   "cell_type": "code",
   "execution_count": 4,
   "metadata": {},
   "outputs": [
    {
     "name": "stdout",
     "output_type": "stream",
     "text": [
      "a:  127\n",
      "b:  2748\n",
      "c:  9\n",
      "d:  17\n"
     ]
    }
   ],
   "source": [
    "# 8진수와 16진수\n",
    "\n",
    "a = 0o177\n",
    "b = 0xABC\n",
    "\n",
    "c = 0o11\n",
    "d = 0x11\n",
    "\n",
    "print(\"a: \", a)\n",
    "print(\"b: \", b)\n",
    "print(\"c: \", c)\n",
    "print(\"d: \", d)"
   ]
  },
  {
   "cell_type": "markdown",
   "metadata": {},
   "source": [
    "## 설명\n",
    "* 0o177 = 1 * (8*8) + 7 * (8) + 7\n",
    "* 0o11 = 1* (8) + 1\n",
    "* 0o111 = 1* (8*8) + 1 * (8) + 1"
   ]
  },
  {
   "cell_type": "code",
   "execution_count": 6,
   "metadata": {},
   "outputs": [
    {
     "name": "stdout",
     "output_type": "stream",
     "text": [
      "73\n"
     ]
    }
   ],
   "source": [
    "e = 0o111\n",
    "print(e)"
   ]
  },
  {
   "cell_type": "code",
   "execution_count": 7,
   "metadata": {},
   "outputs": [
    {
     "name": "stdout",
     "output_type": "stream",
     "text": [
      "15\n",
      "10\n"
     ]
    }
   ],
   "source": [
    "print(0xf)\n",
    "print(0xA)"
   ]
  },
  {
   "cell_type": "markdown",
   "metadata": {},
   "source": [
    "## 사칙연산\n",
    "- +,-,*,/"
   ]
  },
  {
   "cell_type": "code",
   "execution_count": 8,
   "metadata": {},
   "outputs": [
    {
     "name": "stdout",
     "output_type": "stream",
     "text": [
      "7\n",
      "-1\n",
      "12\n",
      "0.75\n"
     ]
    }
   ],
   "source": [
    "a = 3\n",
    "b = 4\n",
    "\n",
    "print(a + b)\n",
    "print(a - b)\n",
    "print(a * b)\n",
    "print(a / b)"
   ]
  },
  {
   "cell_type": "code",
   "execution_count": 10,
   "metadata": {},
   "outputs": [
    {
     "name": "stdout",
     "output_type": "stream",
     "text": [
      "81\n",
      "8\n"
     ]
    }
   ],
   "source": [
    "# x의 y제곱을 나타내는 **연산자\n",
    "\n",
    "a = 3\n",
    "b = 4\n",
    "print(a ** b)\n",
    "print(2 ** 3)"
   ]
  },
  {
   "cell_type": "code",
   "execution_count": 11,
   "metadata": {},
   "outputs": [
    {
     "name": "stdout",
     "output_type": "stream",
     "text": [
      "1\n"
     ]
    }
   ],
   "source": [
    "# 나눗셈 후 나머지를 리턴하는 % 연산자\n",
    "\n",
    "print(7 % 3)"
   ]
  },
  {
   "cell_type": "code",
   "execution_count": 13,
   "metadata": {},
   "outputs": [
    {
     "name": "stdout",
     "output_type": "stream",
     "text": [
      "2.3333333333333335\n",
      "2\n"
     ]
    }
   ],
   "source": [
    "# 나눗셈 후 몫을 리턴하는 // 연산자\n",
    "print(7 / 3)\n",
    "print(7 // 3)"
   ]
  },
  {
   "cell_type": "code",
   "execution_count": 25,
   "metadata": {},
   "outputs": [
    {
     "name": "stdout",
     "output_type": "stream",
     "text": [
      "숫자변환: \n",
      "숫자변환:  정수와 실수 python\n",
      "숫자변환:  3.141597\n",
      "숫자변환: 3.141597 결과값입니다.\n",
      "숫자변환: 3.141597 결과값입니다.\n",
      "숫자변환: 3.141597 결과값입니다.\n",
      "숫자변환: 3.14 결과값입니다.\n",
      "숫자변환: 3.141597 결과값입니다.\n",
      "숫자변환: 3.14 결과값입니다.\n"
     ]
    }
   ],
   "source": [
    "a = 3.141597\n",
    "print(\"숫자변환: \")\n",
    "print(\"숫자변환: \", \"정수와 실수\", \"python\")\n",
    "print(\"숫자변환: \", a)\n",
    "\n",
    "print(\"숫자변환: {} 결과값입니다.\".format(a))\n",
    "print(\"숫자변환: %f 결과값입니다.\"%a)\n",
    "print(f\"숫자변환: {a} 결과값입니다.\")\n",
    "\n",
    "print(\"숫자변환: {:.2f} 결과값입니다.\".format(a))\n",
    "print(\"숫자변환: %f 결과값입니다.\"%a)\n",
    "print(f\"숫자변환: {a:.2f} 결과값입니다.\")\n"
   ]
  },
  {
   "cell_type": "code",
   "execution_count": null,
   "metadata": {},
   "outputs": [],
   "source": [
    "a = 123\n",
    "b = \"123\"\n",
    "c = \"hello\"\n",
    "d = int(b)\n",
    "e = int(c)\n",
    "\n",
    "print(type(a))\n",
    "print(type(b))\n",
    "print(type(c))\n",
    "print(type(d))\n",
    "print(type(e))"
   ]
  },
  {
   "cell_type": "code",
   "execution_count": 22,
   "metadata": {},
   "outputs": [
    {
     "name": "stdout",
     "output_type": "stream",
     "text": [
      "100\n",
      "<class 'str'>\n",
      "<class 'int'>\n",
      "200\n"
     ]
    }
   ],
   "source": [
    "a = input(\"숫자를 입력하세요\")\n",
    "print(a)\n",
    "b = int(a)\n",
    "\n",
    "print(type(a))\n",
    "print(type(b))\n",
    "\n",
    "print(b + 100)"
   ]
  },
  {
   "cell_type": "code",
   "execution_count": null,
   "metadata": {},
   "outputs": [],
   "source": []
  }
 ],
 "metadata": {
  "kernelspec": {
   "display_name": ".venv",
   "language": "python",
   "name": "python3"
  },
  "language_info": {
   "codemirror_mode": {
    "name": "ipython",
    "version": 3
   },
   "file_extension": ".py",
   "mimetype": "text/x-python",
   "name": "python",
   "nbconvert_exporter": "python",
   "pygments_lexer": "ipython3",
   "version": "3.12.4"
  }
 },
 "nbformat": 4,
 "nbformat_minor": 2
}
